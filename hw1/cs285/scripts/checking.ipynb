{
 "cells": [
  {
   "cell_type": "code",
   "execution_count": 9,
   "id": "06e83456",
   "metadata": {},
   "outputs": [],
   "source": [
    "import pickle\n",
    "import numpy as np\n",
    "import torch\n",
    "\n",
    "from cs285.policies.loaded_gaussian_policy import LoadedGaussianPolicy\n",
    "from cs285.infrastructure import pytorch_util as ptu"
   ]
  },
  {
   "cell_type": "code",
   "execution_count": 10,
   "id": "f26cde50",
   "metadata": {},
   "outputs": [
    {
     "name": "stdout",
     "output_type": "stream",
     "text": [
      "2.7.1+cu118\n",
      "11.8\n",
      "90100\n"
     ]
    }
   ],
   "source": [
    "import torch\n",
    "print(torch.__version__)\n",
    "print(torch.version.cuda)   # CUDA version that PyTorch was built with\n",
    "print(torch.backends.cudnn.version())\n"
   ]
  },
  {
   "cell_type": "code",
   "execution_count": 11,
   "id": "d4b2b13a",
   "metadata": {},
   "outputs": [
    {
     "data": {
      "text/plain": [
       "True"
      ]
     },
     "execution_count": 11,
     "metadata": {},
     "output_type": "execute_result"
    }
   ],
   "source": [
    "torch.cuda.is_available()"
   ]
  },
  {
   "cell_type": "code",
   "execution_count": 12,
   "id": "9e3a693a",
   "metadata": {},
   "outputs": [],
   "source": [
    "# import numpy as np\n",
    "# import torch\n",
    "# from cs285.policies.loaded_gaussian_policy import LoadedGaussianPolicy\n",
    "# from cs285.infrastructure import pytorch_util as ptu\n",
    "\n",
    "# # init device (CPU is fine)\n",
    "# ptu.init_gpu(use_gpu=False)\n",
    "\n",
    "# # load expert into a normal PyTorch nn.Module\n",
    "# expert = LoadedGaussianPolicy(\"../policies/experts/Ant.pkl\").to(ptu.device)\n",
    "\n",
    "# # show layer names and shapes\n",
    "# sd = expert.state_dict()\n",
    "# for k, v in sd.items():\n",
    "#     print(f\"{k:35s} {tuple(v.shape)}\")\n",
    "\n",
    "# # peek at a few actual numbers (first row of output layer)\n",
    "# W = sd[\"output_layer.weight\"]        # shape (8, 64) for Ant\n",
    "# b = sd[\"output_layer.bias\"]          # shape (8,)\n",
    "# print(\"\\noutput_layer.weight[0, :5] =\", W[0, :5])\n",
    "# print(\"output_layer.bias[:5]        =\", b[:5])\n",
    "\n",
    "# # sanity: obs → action\n",
    "# obs = np.random.randn(1, 111).astype(np.float32)\n",
    "# act = expert.get_action(obs)\n",
    "# print(\"\\nAction shape:\", act.shape, \"first action:\", act[0])\n"
   ]
  },
  {
   "cell_type": "code",
   "execution_count": 13,
   "id": "481b283f",
   "metadata": {},
   "outputs": [
    {
     "name": "stdout",
     "output_type": "stream",
     "text": [
      "Top-level keys: dict_keys(['GaussianPolicy', 'nonlin_type'])\n",
      "GaussianPolicy keys: dict_keys(['hidden', 'obsnorm', 'logstdevs_1_Da', 'out'])\n",
      "type(hidden): <class 'dict'>\n",
      "hidden keys: dict_keys(['FeedforwardNet'])\n",
      "type(out): <class 'dict'>\n",
      "out keys: dict_keys(['AffineLayer'])\n",
      "logstdevs_1_Da shape: (1, 8)\n",
      "obsnorm keys: dict_keys(['Standardizer'])\n"
     ]
    }
   ],
   "source": [
    "import pickle\n",
    "\n",
    "ckpt = pickle.load(open(\"../policies/experts/Ant.pkl\", \"rb\"))\n",
    "print(\"Top-level keys:\", ckpt.keys())\n",
    "\n",
    "gp = ckpt[\"GaussianPolicy\"]\n",
    "print(\"GaussianPolicy keys:\", gp.keys())\n",
    "\n",
    "# Don't index gp['hidden'] like a list; it's a dict:\n",
    "hidden = gp[\"hidden\"]\n",
    "print(\"type(hidden):\", type(hidden))\n",
    "print(\"hidden keys:\", getattr(hidden, \"keys\", lambda: [])())\n",
    "\n",
    "out = gp[\"out\"]\n",
    "print(\"type(out):\", type(out))\n",
    "print(\"out keys:\", getattr(out, \"keys\", lambda: [])())\n",
    "\n",
    "print(\"logstdevs_1_Da shape:\", getattr(gp[\"logstdevs_1_Da\"], \"shape\", None))\n",
    "\n",
    "obsnorm = gp[\"obsnorm\"]\n",
    "print(\"obsnorm keys:\", getattr(obsnorm, \"keys\", lambda: [])())\n"
   ]
  },
  {
   "cell_type": "code",
   "execution_count": 14,
   "id": "edaa1967",
   "metadata": {},
   "outputs": [
    {
     "name": "stdout",
     "output_type": "stream",
     "text": [
      "Sample action from expert: [[ 1.0613871  -0.36487013 -1.4425466  -0.56970346  0.5854364   0.6475107\n",
      "  -0.25946915  0.6565325 ]]\n",
      "Action shape: (1, 8)\n"
     ]
    }
   ],
   "source": [
    "obs_dim = 111  # for Ant-v4, may vary by env\n",
    "fake_obs = np.random.randn(1, obs_dim).astype(np.float32)\n",
    "act = expert.get_action(fake_obs)\n",
    "print(\"Sample action from expert:\", act)\n",
    "print(\"Action shape:\", act.shape)"
   ]
  },
  {
   "cell_type": "code",
   "execution_count": 22,
   "id": "785259dc",
   "metadata": {},
   "outputs": [
    {
     "name": "stderr",
     "output_type": "stream",
     "text": [
      "C:\\Users\\Yumlum\\AppData\\Local\\Temp\\ipykernel_15676\\635976527.py:3: DeprecationWarning: numpy.core.numeric is deprecated and has been renamed to numpy._core.numeric. The numpy._core namespace contains private NumPy internals and its use is discouraged, as NumPy internals can change without warning in any release. In practice, most real-world usage of numpy.core is to access functionality in the public NumPy API. If that is the case, use the public NumPy API. If not, you are using NumPy internals. If you would still like to access an internal attribute, use numpy._core.numeric._frombuffer.\n",
      "  expert_paths = pickle.load(f)\n"
     ]
    }
   ],
   "source": [
    "expert_data_file = \"../expert_data/expert_data_Ant-v4.pkl\"\n",
    "with open(expert_data_file, \"rb\") as f:\n",
    "    expert_paths = pickle.load(f)"
   ]
  },
  {
   "cell_type": "code",
   "execution_count": 24,
   "id": "18a98bd2",
   "metadata": {},
   "outputs": [
    {
     "name": "stdout",
     "output_type": "stream",
     "text": [
      "Number of expert trajectories: 2\n",
      "Keys in one path: dict_keys(['observation', 'action', 'reward', 'next_observation', 'terminal'])\n",
      "Obs shape: (1000, 27)\n",
      "Act shape: (1000, 8)\n",
      "Reward shape: (1000,)\n",
      "First obs[0]: [ 0.82588086  0.99502704 -0.08480735 -0.04968133 -0.01614537]\n",
      "First act[0]: [ 0.29435965  0.01958522 -1.1779833  -0.01043977 -0.30546713  0.11675249\n",
      "  0.7819461   0.19286692]\n",
      "First reward[0]: -0.5191441852876566\n"
     ]
    },
    {
     "name": "stderr",
     "output_type": "stream",
     "text": [
      "C:\\Users\\Yumlum\\AppData\\Local\\Temp\\ipykernel_15676\\3661943778.py:4: DeprecationWarning: numpy.core.numeric is deprecated and has been renamed to numpy._core.numeric. The numpy._core namespace contains private NumPy internals and its use is discouraged, as NumPy internals can change without warning in any release. In practice, most real-world usage of numpy.core is to access functionality in the public NumPy API. If that is the case, use the public NumPy API. If not, you are using NumPy internals. If you would still like to access an internal attribute, use numpy._core.numeric._frombuffer.\n",
      "  expert_paths = pickle.load(f)\n"
     ]
    }
   ],
   "source": [
    "# ---- Load the expert dataset (trajectories) ----\n",
    "expert_data_file = \"../expert_data/expert_data_Ant-v4.pkl\"\n",
    "with open(expert_data_file, \"rb\") as f:\n",
    "    expert_paths = pickle.load(f)\n",
    "\n",
    "print(\"Number of expert trajectories:\", len(expert_paths))\n",
    "first_path = expert_paths[0]\n",
    "print(\"Keys in one path:\", first_path.keys())\n",
    "print(\"Obs shape:\", first_path[\"observation\"].shape)\n",
    "print(\"Act shape:\", first_path[\"action\"].shape)\n",
    "print(\"Reward shape:\", first_path[\"reward\"].shape)\n",
    "\n",
    "# peek at some values\n",
    "print(\"First obs[0]:\", first_path[\"observation\"][0][:5])  # first 5 dims\n",
    "print(\"First act[0]:\", first_path[\"action\"][0])\n",
    "print(\"First reward[0]:\", first_path[\"reward\"][0])"
   ]
  },
  {
   "cell_type": "code",
   "execution_count": 27,
   "id": "6f4a03e6",
   "metadata": {},
   "outputs": [
    {
     "name": "stdout",
     "output_type": "stream",
     "text": [
      "env obs dim: (27,)\n",
      "env act dim: (8,)\n",
      "GPU not detected. Defaulting to CPU.\n",
      "obs (1, 111) (1, 111)\n",
      "first hidden weight shape: torch.Size([64, 111])\n",
      "output weight shape: torch.Size([8, 64])\n",
      "dataset obs dim: 27\n",
      "dataset act dim: 8\n"
     ]
    },
    {
     "name": "stderr",
     "output_type": "stream",
     "text": [
      "c:\\Users\\Yumlum\\.conda\\envs\\rl\\lib\\site-packages\\gym\\core.py:317: DeprecationWarning: \u001b[33mWARN: Initializing wrapper in old step API which returns one bool instead of two. It is recommended to set `new_step_api=True` to use new step API. This will be the default behaviour in future.\u001b[0m\n",
      "  deprecation(\n",
      "c:\\Users\\Yumlum\\.conda\\envs\\rl\\lib\\site-packages\\gym\\wrappers\\step_api_compatibility.py:39: DeprecationWarning: \u001b[33mWARN: Initializing environment in old step API which returns one bool instead of two. It is recommended to set `new_step_api=True` to use new step API. This will be the default behaviour in future.\u001b[0m\n",
      "  deprecation(\n",
      "C:\\Users\\Yumlum\\AppData\\Local\\Temp\\ipykernel_15676\\3830237530.py:17: DeprecationWarning: numpy.core.numeric is deprecated and has been renamed to numpy._core.numeric. The numpy._core namespace contains private NumPy internals and its use is discouraged, as NumPy internals can change without warning in any release. In practice, most real-world usage of numpy.core is to access functionality in the public NumPy API. If that is the case, use the public NumPy API. If not, you are using NumPy internals. If you would still like to access an internal attribute, use numpy._core.numeric._frombuffer.\n",
      "  paths = pickle.load(open(\"../expert_data/expert_data_Ant-v4.pkl\", \"rb\"))\n"
     ]
    }
   ],
   "source": [
    "import gym\n",
    "env = gym.make(\"Ant-v4\")\n",
    "print(\"env obs dim:\", env.observation_space.shape)  # expect (111,)\n",
    "print(\"env act dim:\", env.action_space.shape)       # expect (8,)\n",
    "\n",
    "# 2) What does your expert policy expect (from state_dict)?\n",
    "from cs285.policies.loaded_gaussian_policy import LoadedGaussianPolicy\n",
    "from cs285.infrastructure import pytorch_util as ptu\n",
    "ptu.init_gpu(use_gpu=False)\n",
    "expert = LoadedGaussianPolicy(\"../policies/experts/Ant.pkl\").to(ptu.device)\n",
    "sd = expert.state_dict()\n",
    "print(\"first hidden weight shape:\", sd[\"hidden_layers.0.weight\"].shape)  # (64, 111) if Ant-v4\n",
    "print(\"output weight shape:\", sd[\"output_layer.weight\"].shape)           # (8, 64)\n",
    "\n",
    "# 3) What does your dataset say?\n",
    "import pickle\n",
    "paths = pickle.load(open(\"../expert_data/expert_data_Ant-v4.pkl\", \"rb\"))\n",
    "print(\"dataset obs dim:\", paths[0][\"observation\"].shape[1])  # you saw 27\n",
    "print(\"dataset act dim:\", paths[0][\"action\"].shape[1])       # 8"
   ]
  },
  {
   "cell_type": "code",
   "execution_count": 1,
   "id": "aa1f44bc",
   "metadata": {},
   "outputs": [],
   "source": [
    "import pickle\n",
    "import numpy as np\n",
    "import pandas as pd\n",
    "\n",
    "# point this to YOUR file\n",
    "EXPERT_DATA = \"../expert_data/expert_data_Ant-v4.pkl\"  # adjust path if needed"
   ]
  },
  {
   "cell_type": "code",
   "execution_count": 2,
   "id": "0c7ca932",
   "metadata": {},
   "outputs": [
    {
     "name": "stdout",
     "output_type": "stream",
     "text": [
      "Number of trajectories: 2\n",
      "Keys: dict_keys(['observation', 'action', 'reward', 'next_observation', 'terminal'])\n",
      "Obs shape: (1000, 27)\n",
      "Act shape: (1000, 8)\n",
      "Reward shape: (1000,)\n",
      "obs[0][:5]: [ 0.82588086  0.99502704 -0.08480735 -0.04968133 -0.01614537]\n",
      "act[0]    : [ 0.29435965  0.01958522 -1.1779833  -0.01043977 -0.30546713  0.11675249\n",
      "  0.7819461   0.19286692]\n",
      "rew[0]    : -0.5191441852876566\n"
     ]
    }
   ],
   "source": [
    "with open(EXPERT_DATA, \"rb\") as f:\n",
    "    paths = pickle.load(f)\n",
    "\n",
    "print(\"Number of trajectories:\", len(paths))\n",
    "first = paths[0]\n",
    "print(\"Keys:\", first.keys())\n",
    "print(\"Obs shape:\", first[\"observation\"].shape)\n",
    "print(\"Act shape:\", first[\"action\"].shape)\n",
    "print(\"Reward shape:\", first[\"reward\"].shape)\n",
    "\n",
    "# peek a few values\n",
    "print(\"obs[0][:5]:\", first[\"observation\"][0][:5])\n",
    "print(\"act[0]    :\", first[\"action\"][0])\n",
    "print(\"rew[0]    :\", first[\"reward\"][0])"
   ]
  },
  {
   "cell_type": "code",
   "execution_count": null,
   "id": "4a3f93f3",
   "metadata": {},
   "outputs": [
    {
     "data": {
      "text/plain": [
       "(1000, 27)"
      ]
     },
     "execution_count": 7,
     "metadata": {},
     "output_type": "execute_result"
    }
   ],
   "source": []
  },
  {
   "cell_type": "code",
   "execution_count": 3,
   "id": "d8ea9909",
   "metadata": {},
   "outputs": [
    {
     "name": "stderr",
     "output_type": "stream",
     "text": [
      "c:\\Users\\Yumlum\\.conda\\envs\\rl\\lib\\site-packages\\tqdm\\auto.py:21: TqdmWarning: IProgress not found. Please update jupyter and ipywidgets. See https://ipywidgets.readthedocs.io/en/stable/user_install.html\n",
      "  from .autonotebook import tqdm as notebook_tqdm\n"
     ]
    }
   ],
   "source": [
    "from cs285.infrastructure.utils import convert_listofrollouts\n",
    "from cs285.infrastructure.replay_buffer import ReplayBuffer"
   ]
  },
  {
   "cell_type": "code",
   "execution_count": 4,
   "id": "aa00ff4d",
   "metadata": {},
   "outputs": [
    {
     "name": "stdout",
     "output_type": "stream",
     "text": [
      "len(buf) before add: 0\n",
      "(2000, 27)\n",
      "len(buf) after  add: 2000\n",
      "obs: (2000, 27)   acs: (2000, 8)   rews: (2000,)   next_obs: (2000, 27)   terminals: (2000,)\n"
     ]
    }
   ],
   "source": [
    "buf = ReplayBuffer(max_size=1_000_000)\n",
    "\n",
    "print(\"len(buf) before add:\", len(buf))\n",
    "buf.add_rollouts(paths, concat_rew=True)   # flatten and append\n",
    "print(\"len(buf) after  add:\", len(buf))\n",
    "\n",
    "print(\"obs:\", buf.obs.shape, \"  acs:\", buf.acs.shape,\n",
    "      \"  rews:\", buf.rews.shape if not isinstance(buf.rews, list) else f\"list({len(buf.rews)})\",\n",
    "      \"  next_obs:\", buf.next_obs.shape, \"  terminals:\", buf.terminals.shape)"
   ]
  },
  {
   "cell_type": "code",
   "execution_count": 5,
   "id": "e6d48e8b",
   "metadata": {},
   "outputs": [],
   "source": [
    "import torch\n"
   ]
  },
  {
   "cell_type": "code",
   "execution_count": 6,
   "id": "415b1ef4",
   "metadata": {},
   "outputs": [
    {
     "data": {
      "text/plain": [
       "False"
      ]
     },
     "execution_count": 6,
     "metadata": {},
     "output_type": "execute_result"
    }
   ],
   "source": [
    "torch.cuda.is_available()"
   ]
  }
 ],
 "metadata": {
  "kernelspec": {
   "display_name": "rl",
   "language": "python",
   "name": "python3"
  },
  "language_info": {
   "codemirror_mode": {
    "name": "ipython",
    "version": 3
   },
   "file_extension": ".py",
   "mimetype": "text/x-python",
   "name": "python",
   "nbconvert_exporter": "python",
   "pygments_lexer": "ipython3",
   "version": "3.9.23"
  }
 },
 "nbformat": 4,
 "nbformat_minor": 5
}
